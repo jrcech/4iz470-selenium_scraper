{
 "cells": [
  {
   "cell_type": "markdown",
   "id": "a1551207",
   "metadata": {},
   "source": [
    "# Vizualizace dat žebříčků ČSFD\n",
    "Autor: Jiří Čech\n",
    "\n",
    "## README\n",
    "Tento Jupyter Notebook je univerzální pro všechny žánry. Stačí v řádku `df = pd.read_json(\"results/zanr.json\")` vyměnit `zanr.json` soubor za požadovaný žánr. Například \n",
    "`df = pd.read_json(\"results/sci_fi.json\")`.\n",
    "\n",
    "Pak je nutné spustit všechny bloky. Záložka `Cell->Run All`.\n",
    "\n",
    "Spuštění ověřeno u:\n",
    "- Distribuce `Anaconda 2021.05`"
   ]
  },
  {
   "cell_type": "markdown",
   "id": "5afd8149",
   "metadata": {},
   "source": [
    "## Načtení nascrapovaných dat z ČSFD"
   ]
  },
  {
   "cell_type": "code",
   "execution_count": 259,
   "id": "d1345ec1",
   "metadata": {},
   "outputs": [
    {
     "data": {
      "text/html": [
       "<div>\n",
       "<style scoped>\n",
       "    .dataframe tbody tr th:only-of-type {\n",
       "        vertical-align: middle;\n",
       "    }\n",
       "\n",
       "    .dataframe tbody tr th {\n",
       "        vertical-align: top;\n",
       "    }\n",
       "\n",
       "    .dataframe thead th {\n",
       "        text-align: right;\n",
       "    }\n",
       "</style>\n",
       "<table border=\"1\" class=\"dataframe\">\n",
       "  <thead>\n",
       "    <tr style=\"text-align: right;\">\n",
       "      <th></th>\n",
       "      <th>title</th>\n",
       "      <th>genres</th>\n",
       "      <th>origin</th>\n",
       "      <th>year</th>\n",
       "      <th>rating_value</th>\n",
       "      <th>rating_count</th>\n",
       "      <th>review_count</th>\n",
       "      <th>based_on</th>\n",
       "      <th>directors</th>\n",
       "      <th>scenarists</th>\n",
       "      <th>actors</th>\n",
       "      <th>musicians</th>\n",
       "      <th>producers</th>\n",
       "      <th>position</th>\n",
       "    </tr>\n",
       "  </thead>\n",
       "  <tbody>\n",
       "    <tr>\n",
       "      <th>0</th>\n",
       "      <td>Terminátor 2: Den zúčtování</td>\n",
       "      <td>[Akční, Sci-Fi, Thriller]</td>\n",
       "      <td>[USA, Francie]</td>\n",
       "      <td>1991</td>\n",
       "      <td>90.817075</td>\n",
       "      <td>78010</td>\n",
       "      <td>1859</td>\n",
       "      <td>[]</td>\n",
       "      <td>[James Cameron]</td>\n",
       "      <td>[James Cameron, William Wisher Jr.]</td>\n",
       "      <td>[Arnold Schwarzenegger, Linda Hamilton, Edward...</td>\n",
       "      <td>[Brad Fiedel]</td>\n",
       "      <td>[James Cameron]</td>\n",
       "      <td>1</td>\n",
       "    </tr>\n",
       "    <tr>\n",
       "      <th>1</th>\n",
       "      <td>The Matrix</td>\n",
       "      <td>[Akční, Sci-Fi]</td>\n",
       "      <td>[USA]</td>\n",
       "      <td>1999</td>\n",
       "      <td>90.137769</td>\n",
       "      <td>103289</td>\n",
       "      <td>2141</td>\n",
       "      <td>[]</td>\n",
       "      <td>[Lilly Wachowski, Lana Wachowski]</td>\n",
       "      <td>[Lilly Wachowski, Lana Wachowski]</td>\n",
       "      <td>[Keanu Reeves, Laurence Fishburne, Carrie-Anne...</td>\n",
       "      <td>[Don Davis]</td>\n",
       "      <td>[Joel Silver]</td>\n",
       "      <td>2</td>\n",
       "    </tr>\n",
       "    <tr>\n",
       "      <th>2</th>\n",
       "      <td>Vetřelec</td>\n",
       "      <td>[Horor, Sci-Fi]</td>\n",
       "      <td>[USA, Velká Británie]</td>\n",
       "      <td>1979</td>\n",
       "      <td>89.606542</td>\n",
       "      <td>68114</td>\n",
       "      <td>1726</td>\n",
       "      <td>[]</td>\n",
       "      <td>[Ridley Scott]</td>\n",
       "      <td>[Dan O'Bannon]</td>\n",
       "      <td>[Sigourney Weaver, Tom Skerritt, Veronica Cart...</td>\n",
       "      <td>[Jerry Goldsmith]</td>\n",
       "      <td>[Walter Hill, David Giler, Gordon Carroll]</td>\n",
       "      <td>3</td>\n",
       "    </tr>\n",
       "    <tr>\n",
       "      <th>3</th>\n",
       "      <td>Vetřelci</td>\n",
       "      <td>[Sci-Fi, Thriller, Akční, Dobrodružný, Horor]</td>\n",
       "      <td>[USA, Velká Británie]</td>\n",
       "      <td>1986</td>\n",
       "      <td>89.540886</td>\n",
       "      <td>57110</td>\n",
       "      <td>1515</td>\n",
       "      <td>[]</td>\n",
       "      <td>[James Cameron]</td>\n",
       "      <td>[James Cameron]</td>\n",
       "      <td>[Sigourney Weaver, Carrie Henn, Michael Biehn,...</td>\n",
       "      <td>[James Horner]</td>\n",
       "      <td>[Gale Anne Hurd]</td>\n",
       "      <td>4</td>\n",
       "    </tr>\n",
       "    <tr>\n",
       "      <th>4</th>\n",
       "      <td>Star Wars: Epizoda V - Impérium vrací úder</td>\n",
       "      <td>[Sci-Fi, Dobrodružný, Fantasy, Akční]</td>\n",
       "      <td>[USA]</td>\n",
       "      <td>1980</td>\n",
       "      <td>89.018155</td>\n",
       "      <td>65326</td>\n",
       "      <td>1046</td>\n",
       "      <td>[]</td>\n",
       "      <td>[Irvin Kershner]</td>\n",
       "      <td>[Leigh Brackett, Lawrence Kasdan]</td>\n",
       "      <td>[Mark Hamill, Harrison Ford, Carrie Fisher, Bi...</td>\n",
       "      <td>[John Williams]</td>\n",
       "      <td>[Gary Kurtz]</td>\n",
       "      <td>5</td>\n",
       "    </tr>\n",
       "    <tr>\n",
       "      <th>...</th>\n",
       "      <td>...</td>\n",
       "      <td>...</td>\n",
       "      <td>...</td>\n",
       "      <td>...</td>\n",
       "      <td>...</td>\n",
       "      <td>...</td>\n",
       "      <td>...</td>\n",
       "      <td>...</td>\n",
       "      <td>...</td>\n",
       "      <td>...</td>\n",
       "      <td>...</td>\n",
       "      <td>...</td>\n",
       "      <td>...</td>\n",
       "      <td>...</td>\n",
       "    </tr>\n",
       "    <tr>\n",
       "      <th>295</th>\n",
       "      <td>Heavy Metal</td>\n",
       "      <td>[Animovaný, Sci-Fi, Fantasy, Horor]</td>\n",
       "      <td>[Kanada, USA]</td>\n",
       "      <td>1981</td>\n",
       "      <td>72.879534</td>\n",
       "      <td>2233</td>\n",
       "      <td>161</td>\n",
       "      <td>[]</td>\n",
       "      <td>[Gerald Potterton]</td>\n",
       "      <td>[Daniel Goldberg, Len Blum]</td>\n",
       "      <td>[Harold Ramis, Eugene Levy, John Candy, Joe Fl...</td>\n",
       "      <td>[Elmer Bernstein]</td>\n",
       "      <td>[Ivan Reitman]</td>\n",
       "      <td>296</td>\n",
       "    </tr>\n",
       "    <tr>\n",
       "      <th>296</th>\n",
       "      <td>Them!</td>\n",
       "      <td>[Sci-Fi, Horor]</td>\n",
       "      <td>[USA]</td>\n",
       "      <td>1954</td>\n",
       "      <td>73.562232</td>\n",
       "      <td>466</td>\n",
       "      <td>84</td>\n",
       "      <td>[]</td>\n",
       "      <td>[Gordon Douglas]</td>\n",
       "      <td>[Ted Sherdeman, Russell S. Hughes]</td>\n",
       "      <td>[James Whitmore, Edmund Gwenn, Joan Weldon, Ja...</td>\n",
       "      <td>[Bronislau Kaper]</td>\n",
       "      <td>[David Weisbart]</td>\n",
       "      <td>297</td>\n",
       "    </tr>\n",
       "    <tr>\n",
       "      <th>297</th>\n",
       "      <td>Můj nepřítel</td>\n",
       "      <td>[Sci-Fi, Drama, Dobrodružný]</td>\n",
       "      <td>[USA]</td>\n",
       "      <td>1985</td>\n",
       "      <td>72.785941</td>\n",
       "      <td>3471</td>\n",
       "      <td>186</td>\n",
       "      <td>[]</td>\n",
       "      <td>[Wolfgang Petersen]</td>\n",
       "      <td>[Edward Khmara]</td>\n",
       "      <td>[Dennis Quaid, Louis Gossett Jr., Brion James,...</td>\n",
       "      <td>[Maurice Jarre]</td>\n",
       "      <td>[Stephen J. Friedman]</td>\n",
       "      <td>298</td>\n",
       "    </tr>\n",
       "    <tr>\n",
       "      <th>298</th>\n",
       "      <td>Frankensteinova kletba</td>\n",
       "      <td>[Sci-Fi, Horor]</td>\n",
       "      <td>[Velká Británie]</td>\n",
       "      <td>1957</td>\n",
       "      <td>73.974359</td>\n",
       "      <td>312</td>\n",
       "      <td>45</td>\n",
       "      <td>[Mary Shelley (kniha)]</td>\n",
       "      <td>[Terence Fisher]</td>\n",
       "      <td>[Jimmy Sangster]</td>\n",
       "      <td>[Peter Cushing, Hazel Court, Robert Urquhart, ...</td>\n",
       "      <td>[James Bernard]</td>\n",
       "      <td>[Anthony Hinds]</td>\n",
       "      <td>299</td>\n",
       "    </tr>\n",
       "    <tr>\n",
       "      <th>299</th>\n",
       "      <td>Metropolis</td>\n",
       "      <td>[Animovaný, Dobrodružný, Sci-Fi, Akční]</td>\n",
       "      <td>[Japonsko]</td>\n",
       "      <td>2001</td>\n",
       "      <td>72.951542</td>\n",
       "      <td>1362</td>\n",
       "      <td>76</td>\n",
       "      <td>[]</td>\n",
       "      <td>[Rintaró]</td>\n",
       "      <td>[]</td>\n",
       "      <td>[Júka Imóto, Kóki Okada, Robert Axelrod, Scott...</td>\n",
       "      <td>[Tošijuki Honda]</td>\n",
       "      <td>[]</td>\n",
       "      <td>300</td>\n",
       "    </tr>\n",
       "  </tbody>\n",
       "</table>\n",
       "<p>300 rows × 14 columns</p>\n",
       "</div>"
      ],
      "text/plain": [
       "                                          title  \\\n",
       "0                   Terminátor 2: Den zúčtování   \n",
       "1                                    The Matrix   \n",
       "2                                      Vetřelec   \n",
       "3                                      Vetřelci   \n",
       "4    Star Wars: Epizoda V - Impérium vrací úder   \n",
       "..                                          ...   \n",
       "295                                 Heavy Metal   \n",
       "296                                       Them!   \n",
       "297                                Můj nepřítel   \n",
       "298                      Frankensteinova kletba   \n",
       "299                                  Metropolis   \n",
       "\n",
       "                                            genres                 origin  \\\n",
       "0                        [Akční, Sci-Fi, Thriller]         [USA, Francie]   \n",
       "1                                  [Akční, Sci-Fi]                  [USA]   \n",
       "2                                  [Horor, Sci-Fi]  [USA, Velká Británie]   \n",
       "3    [Sci-Fi, Thriller, Akční, Dobrodružný, Horor]  [USA, Velká Británie]   \n",
       "4            [Sci-Fi, Dobrodružný, Fantasy, Akční]                  [USA]   \n",
       "..                                             ...                    ...   \n",
       "295            [Animovaný, Sci-Fi, Fantasy, Horor]          [Kanada, USA]   \n",
       "296                                [Sci-Fi, Horor]                  [USA]   \n",
       "297                   [Sci-Fi, Drama, Dobrodružný]                  [USA]   \n",
       "298                                [Sci-Fi, Horor]       [Velká Británie]   \n",
       "299        [Animovaný, Dobrodružný, Sci-Fi, Akční]             [Japonsko]   \n",
       "\n",
       "     year  rating_value  rating_count  review_count                based_on  \\\n",
       "0    1991     90.817075         78010          1859                      []   \n",
       "1    1999     90.137769        103289          2141                      []   \n",
       "2    1979     89.606542         68114          1726                      []   \n",
       "3    1986     89.540886         57110          1515                      []   \n",
       "4    1980     89.018155         65326          1046                      []   \n",
       "..    ...           ...           ...           ...                     ...   \n",
       "295  1981     72.879534          2233           161                      []   \n",
       "296  1954     73.562232           466            84                      []   \n",
       "297  1985     72.785941          3471           186                      []   \n",
       "298  1957     73.974359           312            45  [Mary Shelley (kniha)]   \n",
       "299  2001     72.951542          1362            76                      []   \n",
       "\n",
       "                             directors                           scenarists  \\\n",
       "0                      [James Cameron]  [James Cameron, William Wisher Jr.]   \n",
       "1    [Lilly Wachowski, Lana Wachowski]    [Lilly Wachowski, Lana Wachowski]   \n",
       "2                       [Ridley Scott]                       [Dan O'Bannon]   \n",
       "3                      [James Cameron]                      [James Cameron]   \n",
       "4                     [Irvin Kershner]    [Leigh Brackett, Lawrence Kasdan]   \n",
       "..                                 ...                                  ...   \n",
       "295                 [Gerald Potterton]          [Daniel Goldberg, Len Blum]   \n",
       "296                   [Gordon Douglas]   [Ted Sherdeman, Russell S. Hughes]   \n",
       "297                [Wolfgang Petersen]                      [Edward Khmara]   \n",
       "298                   [Terence Fisher]                     [Jimmy Sangster]   \n",
       "299                          [Rintaró]                                   []   \n",
       "\n",
       "                                                actors          musicians  \\\n",
       "0    [Arnold Schwarzenegger, Linda Hamilton, Edward...      [Brad Fiedel]   \n",
       "1    [Keanu Reeves, Laurence Fishburne, Carrie-Anne...        [Don Davis]   \n",
       "2    [Sigourney Weaver, Tom Skerritt, Veronica Cart...  [Jerry Goldsmith]   \n",
       "3    [Sigourney Weaver, Carrie Henn, Michael Biehn,...     [James Horner]   \n",
       "4    [Mark Hamill, Harrison Ford, Carrie Fisher, Bi...    [John Williams]   \n",
       "..                                                 ...                ...   \n",
       "295  [Harold Ramis, Eugene Levy, John Candy, Joe Fl...  [Elmer Bernstein]   \n",
       "296  [James Whitmore, Edmund Gwenn, Joan Weldon, Ja...  [Bronislau Kaper]   \n",
       "297  [Dennis Quaid, Louis Gossett Jr., Brion James,...    [Maurice Jarre]   \n",
       "298  [Peter Cushing, Hazel Court, Robert Urquhart, ...    [James Bernard]   \n",
       "299  [Júka Imóto, Kóki Okada, Robert Axelrod, Scott...   [Tošijuki Honda]   \n",
       "\n",
       "                                      producers  position  \n",
       "0                               [James Cameron]         1  \n",
       "1                                 [Joel Silver]         2  \n",
       "2    [Walter Hill, David Giler, Gordon Carroll]         3  \n",
       "3                              [Gale Anne Hurd]         4  \n",
       "4                                  [Gary Kurtz]         5  \n",
       "..                                          ...       ...  \n",
       "295                              [Ivan Reitman]       296  \n",
       "296                            [David Weisbart]       297  \n",
       "297                       [Stephen J. Friedman]       298  \n",
       "298                             [Anthony Hinds]       299  \n",
       "299                                          []       300  \n",
       "\n",
       "[300 rows x 14 columns]"
      ]
     },
     "execution_count": 259,
     "metadata": {},
     "output_type": "execute_result"
    }
   ],
   "source": [
    "import pandas as pd\n",
    "import matplotlib.pyplot as plt\n",
    "\n",
    "from collections import Counter\n",
    "\n",
    "df = pd.read_json(\"results/sci_fi.json\")\n",
    "df"
   ]
  },
  {
   "cell_type": "markdown",
   "id": "23f9719c",
   "metadata": {},
   "source": [
    "## Kontrola atributů a počtu záznamů"
   ]
  },
  {
   "cell_type": "code",
   "execution_count": 260,
   "id": "d143b5bd",
   "metadata": {},
   "outputs": [
    {
     "name": "stdout",
     "output_type": "stream",
     "text": [
      "All attributes with number of records:\n",
      "\n",
      "title           300\n",
      "genres          300\n",
      "origin          300\n",
      "year            300\n",
      "rating_value    300\n",
      "rating_count    300\n",
      "review_count    300\n",
      "based_on        300\n",
      "directors       300\n",
      "scenarists      300\n",
      "actors          300\n",
      "musicians       300\n",
      "producers       300\n",
      "position        300\n",
      "dtype: int64\n"
     ]
    }
   ],
   "source": [
    "df_count = df.count()\n",
    "\n",
    "print('All attributes with number of records:\\n')\n",
    "print(df_count)"
   ]
  },
  {
   "cell_type": "markdown",
   "id": "f3d329f7",
   "metadata": {},
   "source": [
    "## Vytvoření polí pro grafy"
   ]
  },
  {
   "cell_type": "code",
   "execution_count": 261,
   "id": "7e114f68",
   "metadata": {},
   "outputs": [],
   "source": [
    "based_on = []\n",
    "genres = []\n",
    "origin = []\n",
    "year = []\n",
    "directors = []\n",
    "scenarists = []\n",
    "actors = []\n",
    "musicians = []\n",
    "producers = []\n",
    "\n",
    "for column_name, item in df.iterrows():\n",
    "    based_on = based_on + item['based_on']\n",
    "    genres = genres + item['genres']\n",
    "    year.append(item['year'])\n",
    "    directors = directors + item['directors']\n",
    "    scenarists = scenarists + item['scenarists']\n",
    "    actors = actors + item['actors']\n",
    "    musicians = musicians + item['musicians']\n",
    "    producers = producers + item['producers']\n",
    "    origin = origin + item['origin']"
   ]
  },
  {
   "cell_type": "markdown",
   "id": "e8b174d2",
   "metadata": {},
   "source": [
    "## Filmová předloha"
   ]
  },
  {
   "cell_type": "code",
   "execution_count": 262,
   "id": "8741b87f",
   "metadata": {
    "scrolled": false
   },
   "outputs": [
    {
     "data": {
      "text/plain": [
       "<BarContainer object of 7 artists>"
      ]
     },
     "execution_count": 262,
     "metadata": {},
     "output_type": "execute_result"
    },
    {
     "data": {
      "image/png": "[encoded data removed]",
      "text/plain": [
       "<Figure size 1152x576 with 1 Axes>"
      ]
     },
     "metadata": {
      "needs_background": "light"
     },
     "output_type": "display_data"
    }
   ],
   "source": [
    "plt.figure(figsize=(16,8))\n",
    "\n",
    "x = [x[0] for x in Counter(based_on).most_common(7)]\n",
    "y = [x[1] for x in Counter(based_on).most_common(7)]\n",
    "\n",
    "plt.bar(x, y)"
   ]
  },
  {
   "cell_type": "markdown",
   "id": "6fea86c6",
   "metadata": {},
   "source": [
    "## Související žánry"
   ]
  },
  {
   "cell_type": "code",
   "execution_count": 263,
   "id": "e33a76ed",
   "metadata": {},
   "outputs": [
    {
     "data": {
      "text/plain": [
       "<BarContainer object of 11 artists>"
      ]
     },
     "execution_count": 263,
     "metadata": {},
     "output_type": "execute_result"
    },
    {
     "data": {
      "image/png": "[encoded data removed]",
      "text/plain": [
       "<Figure size 1152x576 with 1 Axes>"
      ]
     },
     "metadata": {
      "needs_background": "light"
     },
     "output_type": "display_data"
    }
   ],
   "source": [
    "plt.figure(figsize=(16,8))\n",
    "removed_genre = Counter(genres).most_common(12)\n",
    "removed_genre.pop(0)\n",
    "\n",
    "x = [x[0] for x in removed_genre]\n",
    "y = [x[1] for x in removed_genre]\n",
    "\n",
    "plt.bar(x, y)"
   ]
  },
  {
   "cell_type": "markdown",
   "id": "0bd7d10f",
   "metadata": {},
   "source": [
    "## Země původu"
   ]
  },
  {
   "cell_type": "code",
   "execution_count": 264,
   "id": "d1899f64",
   "metadata": {},
   "outputs": [
    {
     "data": {
      "text/plain": [
       "<BarContainer object of 7 artists>"
      ]
     },
     "execution_count": 264,
     "metadata": {},
     "output_type": "execute_result"
    },
    {
     "data": {
      "image/png": "[encoded data removed]",
      "text/plain": [
       "<Figure size 1152x576 with 1 Axes>"
      ]
     },
     "metadata": {
      "needs_background": "light"
     },
     "output_type": "display_data"
    }
   ],
   "source": [
    "plt.figure(figsize=(16,8))\n",
    "\n",
    "x = [x[0] for x in Counter(origin).most_common(7)]\n",
    "y = [x[1] for x in Counter(origin).most_common(7)]\n",
    "\n",
    "plt.bar(x, y)"
   ]
  },
  {
   "cell_type": "markdown",
   "id": "2ebbc033",
   "metadata": {},
   "source": [
    "## Vývoj počtu filmů v čase"
   ]
  },
  {
   "cell_type": "code",
   "execution_count": 265,
   "id": "d2d3bc1c",
   "metadata": {},
   "outputs": [
    {
     "data": {
      "text/plain": [
       "<BarContainer object of 70 artists>"
      ]
     },
     "execution_count": 265,
     "metadata": {},
     "output_type": "execute_result"
    },
    {
     "data": {
      "image/png": "[encoded data removed]",
      "text/plain": [
       "<Figure size 1296x576 with 1 Axes>"
      ]
     },
     "metadata": {
      "needs_background": "light"
     },
     "output_type": "display_data"
    }
   ],
   "source": [
    "plt.figure(figsize=(18,8))\n",
    "\n",
    "x = [x[0] for x in Counter(year).most_common()]\n",
    "y = [x[1] for x in Counter(year).most_common()]\n",
    "\n",
    "plt.bar(x, y)"
   ]
  },
  {
   "cell_type": "markdown",
   "id": "052145cf",
   "metadata": {},
   "source": [
    "## Režisér"
   ]
  },
  {
   "cell_type": "code",
   "execution_count": 266,
   "id": "5c00f879",
   "metadata": {},
   "outputs": [
    {
     "data": {
      "text/plain": [
       "<BarContainer object of 8 artists>"
      ]
     },
     "execution_count": 266,
     "metadata": {},
     "output_type": "execute_result"
    },
    {
     "data": {
      "image/png": "[encoded data removed]",
      "text/plain": [
       "<Figure size 1152x576 with 1 Axes>"
      ]
     },
     "metadata": {
      "needs_background": "light"
     },
     "output_type": "display_data"
    }
   ],
   "source": [
    "plt.figure(figsize=(16,8))\n",
    "\n",
    "x = [x[0] for x in Counter(directors).most_common(8)]\n",
    "y = [x[1] for x in Counter(directors).most_common(8)]\n",
    "\n",
    "plt.bar(x, y)"
   ]
  },
  {
   "cell_type": "markdown",
   "id": "14434401",
   "metadata": {},
   "source": [
    "## Scénarista"
   ]
  },
  {
   "cell_type": "code",
   "execution_count": 267,
   "id": "5f211805",
   "metadata": {},
   "outputs": [
    {
     "data": {
      "text/plain": [
       "<BarContainer object of 8 artists>"
      ]
     },
     "execution_count": 267,
     "metadata": {},
     "output_type": "execute_result"
    },
    {
     "data": {
      "image/png": "[encoded data removed]",
      "text/plain": [
       "<Figure size 1152x576 with 1 Axes>"
      ]
     },
     "metadata": {
      "needs_background": "light"
     },
     "output_type": "display_data"
    }
   ],
   "source": [
    "plt.figure(figsize=(16,8))\n",
    "\n",
    "x = [x[0] for x in Counter(scenarists).most_common(8)]\n",
    "y = [x[1] for x in Counter(scenarists).most_common(8)]\n",
    "\n",
    "plt.bar(x, y)"
   ]
  },
  {
   "cell_type": "markdown",
   "id": "3445db0c",
   "metadata": {},
   "source": [
    "## Herec"
   ]
  },
  {
   "cell_type": "code",
   "execution_count": 268,
   "id": "8f4ea24a",
   "metadata": {},
   "outputs": [
    {
     "data": {
      "text/plain": [
       "<BarContainer object of 8 artists>"
      ]
     },
     "execution_count": 268,
     "metadata": {},
     "output_type": "execute_result"
    },
    {
     "data": {
      "image/png": "[encoded data removed]",
      "text/plain": [
       "<Figure size 1152x576 with 1 Axes>"
      ]
     },
     "metadata": {
      "needs_background": "light"
     },
     "output_type": "display_data"
    }
   ],
   "source": [
    "plt.figure(figsize=(16,8))\n",
    "\n",
    "x = [x[0] for x in Counter(actors).most_common(8)]\n",
    "y = [x[1] for x in Counter(actors).most_common(8)]\n",
    "\n",
    "plt.bar(x, y)"
   ]
  },
  {
   "cell_type": "markdown",
   "id": "42052ac0",
   "metadata": {},
   "source": [
    "## Hudba"
   ]
  },
  {
   "cell_type": "code",
   "execution_count": 269,
   "id": "27a6eedf",
   "metadata": {},
   "outputs": [
    {
     "data": {
      "text/plain": [
       "<BarContainer object of 8 artists>"
      ]
     },
     "execution_count": 269,
     "metadata": {},
     "output_type": "execute_result"
    },
    {
     "data": {
      "image/png": "[encoded data removed]",
      "text/plain": [
       "<Figure size 1152x576 with 1 Axes>"
      ]
     },
     "metadata": {
      "needs_background": "light"
     },
     "output_type": "display_data"
    }
   ],
   "source": [
    "plt.figure(figsize=(16,8))\n",
    "\n",
    "x = [x[0] for x in Counter(musicians).most_common(8)]\n",
    "y = [x[1] for x in Counter(musicians).most_common(8)]\n",
    "\n",
    "plt.bar(x, y)"
   ]
  },
  {
   "cell_type": "markdown",
   "id": "a00a2c35",
   "metadata": {},
   "source": [
    "## Produkce"
   ]
  },
  {
   "cell_type": "code",
   "execution_count": 270,
   "id": "6bff73a6",
   "metadata": {},
   "outputs": [
    {
     "data": {
      "text/plain": [
       "<BarContainer object of 8 artists>"
      ]
     },
     "execution_count": 270,
     "metadata": {},
     "output_type": "execute_result"
    },
    {
     "data": {
      "image/png": "[encoded data removed]",
      "text/plain": [
       "<Figure size 1152x576 with 1 Axes>"
      ]
     },
     "metadata": {
      "needs_background": "light"
     },
     "output_type": "display_data"
    }
   ],
   "source": [
    "plt.figure(figsize=(16,8))\n",
    "\n",
    "x = [x[0] for x in Counter(producers).most_common(8)]\n",
    "y = [x[1] for x in Counter(producers).most_common(8)]\n",
    "\n",
    "plt.bar(x, y)"
   ]
  },
  {
   "cell_type": "code",
   "execution_count": null,
   "id": "bdce80a2",
   "metadata": {},
   "outputs": [],
   "source": []
  }
 ],
 "metadata": {
  "kernelspec": {
   "display_name": "Python 3",
   "language": "python",
   "name": "python3"
  },
  "language_info": {
   "codemirror_mode": {
    "name": "ipython",
    "version": 3
   },
   "file_extension": ".py",
   "mimetype": "text/x-python",
   "name": "python",
   "nbconvert_exporter": "python",
   "pygments_lexer": "ipython3",
   "version": "3.8.8"
  }
 },
 "nbformat": 4,
 "nbformat_minor": 5
}
