{
 "cells": [
  {
   "cell_type": "markdown",
   "id": "e7b90466",
   "metadata": {},
   "source": [
    "# Vizualizace dat žebříčků ČSFD\n",
    "Autor: Jiří Čech\n",
    "\n",
    "## README\n",
    "Tento Jupyter Notebook je univerzální pro všechny žánry. Stačí v řádku `df = pd.read_json(\"results/zanr.json\")` vyměnit `zanr.json` soubor za požadovaný žánr. Například \n",
    "`df = pd.read_json(\"results/sci_fi.json\")`.\n",
    "\n",
    "Pak je nutné spustit všechny bloky. Záložka `Cell->Run All`.\n",
    "\n",
    "Spuštění ověřeno u:\n",
    "- Distribuce `Anaconda 2021.05`"
   ]
  },
  {
   "cell_type": "markdown",
   "id": "39c45563",
   "metadata": {},
   "source": [
    "## Načtení nascrapovaných dat z ČSFD"
   ]
  },
  {
   "cell_type": "code",
   "execution_count": 223,
   "id": "1ee6062b",
   "metadata": {},
   "outputs": [
    {
     "data": {
      "text/html": [
       "<div>\n",
       "<style scoped>\n",
       "    .dataframe tbody tr th:only-of-type {\n",
       "        vertical-align: middle;\n",
       "    }\n",
       "\n",
       "    .dataframe tbody tr th {\n",
       "        vertical-align: top;\n",
       "    }\n",
       "\n",
       "    .dataframe thead th {\n",
       "        text-align: right;\n",
       "    }\n",
       "</style>\n",
       "<table border=\"1\" class=\"dataframe\">\n",
       "  <thead>\n",
       "    <tr style=\"text-align: right;\">\n",
       "      <th></th>\n",
       "      <th>title</th>\n",
       "      <th>genres</th>\n",
       "      <th>origin</th>\n",
       "      <th>year</th>\n",
       "      <th>rating_value</th>\n",
       "      <th>rating_count</th>\n",
       "      <th>review_count</th>\n",
       "      <th>based_on</th>\n",
       "      <th>directors</th>\n",
       "      <th>scenarists</th>\n",
       "      <th>actors</th>\n",
       "      <th>musicians</th>\n",
       "      <th>producers</th>\n",
       "      <th>position</th>\n",
       "    </tr>\n",
       "  </thead>\n",
       "  <tbody>\n",
       "    <tr>\n",
       "      <th>0</th>\n",
       "      <td>Terminátor 2: Den zúčtování</td>\n",
       "      <td>[Akční, Sci-Fi, Thriller]</td>\n",
       "      <td>[USA, Francie]</td>\n",
       "      <td>1991</td>\n",
       "      <td>90.817075</td>\n",
       "      <td>78010</td>\n",
       "      <td>1859.0</td>\n",
       "      <td>[]</td>\n",
       "      <td>[James Cameron]</td>\n",
       "      <td>[James Cameron, William Wisher Jr.]</td>\n",
       "      <td>[Arnold Schwarzenegger, Linda Hamilton, Edward...</td>\n",
       "      <td>[Brad Fiedel]</td>\n",
       "      <td>[James Cameron]</td>\n",
       "      <td>1</td>\n",
       "    </tr>\n",
       "    <tr>\n",
       "      <th>1</th>\n",
       "      <td>Pán prstenů: Společenstvo Prstenu</td>\n",
       "      <td>[Fantasy, Dobrodružný, Akční]</td>\n",
       "      <td>[USA, Nový Zéland]</td>\n",
       "      <td>2001</td>\n",
       "      <td>90.484977</td>\n",
       "      <td>106335</td>\n",
       "      <td>1920.0</td>\n",
       "      <td>[John Ronald Reuel Tolkien (kniha)]</td>\n",
       "      <td>[Peter Jackson]</td>\n",
       "      <td>[Fran Walsh, Philippa Boyens, Peter Jackson]</td>\n",
       "      <td>[Elijah Wood, Ian McKellen, Noel Appleby, Vigg...</td>\n",
       "      <td>[Howard Shore]</td>\n",
       "      <td>[Peter Jackson, Fran Walsh, Barrie M. Osborne]</td>\n",
       "      <td>2</td>\n",
       "    </tr>\n",
       "    <tr>\n",
       "      <th>2</th>\n",
       "      <td>Pán prstenů: Návrat krále</td>\n",
       "      <td>[Fantasy, Dobrodružný, Akční]</td>\n",
       "      <td>[USA, Nový Zéland]</td>\n",
       "      <td>2003</td>\n",
       "      <td>90.410795</td>\n",
       "      <td>98857</td>\n",
       "      <td>1600.0</td>\n",
       "      <td>[John Ronald Reuel Tolkien (kniha)]</td>\n",
       "      <td>[Peter Jackson]</td>\n",
       "      <td>[Fran Walsh, Philippa Boyens, Peter Jackson]</td>\n",
       "      <td>[Elijah Wood, Noel Appleby, Billy Boyd, Domini...</td>\n",
       "      <td>[Howard Shore]</td>\n",
       "      <td>[Peter Jackson, Fran Walsh, Barrie M. Osborne]</td>\n",
       "      <td>3</td>\n",
       "    </tr>\n",
       "    <tr>\n",
       "      <th>3</th>\n",
       "      <td>Temný rytíř</td>\n",
       "      <td>[Akční, Drama, Krimi, Thriller]</td>\n",
       "      <td>[USA, Velká Británie]</td>\n",
       "      <td>2008</td>\n",
       "      <td>90.287595</td>\n",
       "      <td>93569</td>\n",
       "      <td>3812.0</td>\n",
       "      <td>[Bob Kane (komiks), Bill Finger (komiks)]</td>\n",
       "      <td>[Christopher Nolan]</td>\n",
       "      <td>[Jonathan Nolan, Christopher Nolan]</td>\n",
       "      <td>[Christian Bale, Heath Ledger, Aaron Eckhart, ...</td>\n",
       "      <td>[Hans Zimmer, James Newton Howard]</td>\n",
       "      <td>[Charles Roven, Christopher Nolan, Emma Thomas]</td>\n",
       "      <td>4</td>\n",
       "    </tr>\n",
       "    <tr>\n",
       "      <th>4</th>\n",
       "      <td>The Matrix</td>\n",
       "      <td>[Akční, Sci-Fi]</td>\n",
       "      <td>[USA]</td>\n",
       "      <td>1999</td>\n",
       "      <td>90.137769</td>\n",
       "      <td>103289</td>\n",
       "      <td>2141.0</td>\n",
       "      <td>[]</td>\n",
       "      <td>[Lilly Wachowski, Lana Wachowski]</td>\n",
       "      <td>[Lilly Wachowski, Lana Wachowski]</td>\n",
       "      <td>[Keanu Reeves, Laurence Fishburne, Carrie-Anne...</td>\n",
       "      <td>[Don Davis]</td>\n",
       "      <td>[Joel Silver]</td>\n",
       "      <td>5</td>\n",
       "    </tr>\n",
       "    <tr>\n",
       "      <th>...</th>\n",
       "      <td>...</td>\n",
       "      <td>...</td>\n",
       "      <td>...</td>\n",
       "      <td>...</td>\n",
       "      <td>...</td>\n",
       "      <td>...</td>\n",
       "      <td>...</td>\n",
       "      <td>...</td>\n",
       "      <td>...</td>\n",
       "      <td>...</td>\n",
       "      <td>...</td>\n",
       "      <td>...</td>\n",
       "      <td>...</td>\n",
       "      <td>...</td>\n",
       "    </tr>\n",
       "    <tr>\n",
       "      <th>295</th>\n",
       "      <td>Žezelotebon</td>\n",
       "      <td>[Animovaný, Akční, Drama]</td>\n",
       "      <td>[Japonsko]</td>\n",
       "      <td>2006</td>\n",
       "      <td>79.454545</td>\n",
       "      <td>440</td>\n",
       "      <td>16.0</td>\n",
       "      <td>[Taijó Macumoto (komiks)]</td>\n",
       "      <td>[Michael Arias]</td>\n",
       "      <td>[Anthony Weintraub]</td>\n",
       "      <td>[Kazunari Ninomija, Jú Aoi, Júsuke Iseja, Kank...</td>\n",
       "      <td>[Plaid]</td>\n",
       "      <td>[]</td>\n",
       "      <td>296</td>\n",
       "    </tr>\n",
       "    <tr>\n",
       "      <th>296</th>\n",
       "      <td>Tenkrát v Číně 2</td>\n",
       "      <td>[Akční]</td>\n",
       "      <td>[Hongkong]</td>\n",
       "      <td>1992</td>\n",
       "      <td>78.765743</td>\n",
       "      <td>794</td>\n",
       "      <td>39.0</td>\n",
       "      <td>[]</td>\n",
       "      <td>[Hark Tsui]</td>\n",
       "      <td>[]</td>\n",
       "      <td>[Donnie Yen, Jet Li, Xin-xin Xiong, Rosamund K...</td>\n",
       "      <td>[Richard Yuen, Johnny Njo, Gam-wing Chow]</td>\n",
       "      <td>[Hark Tsui]</td>\n",
       "      <td>297</td>\n",
       "    </tr>\n",
       "    <tr>\n",
       "      <th>297</th>\n",
       "      <td>BORUTO -NARUTO THE MOVIE-</td>\n",
       "      <td>[Animovaný, Akční, Dobrodružný, Fantasy]</td>\n",
       "      <td>[Japonsko]</td>\n",
       "      <td>2015</td>\n",
       "      <td>78.766067</td>\n",
       "      <td>778</td>\n",
       "      <td>17.0</td>\n",
       "      <td>[Masaši Kišimoto (komiks)]</td>\n",
       "      <td>[Hirojuki Jamašita]</td>\n",
       "      <td>[Masaši Kišimoto]</td>\n",
       "      <td>[Daisuke Namikawa, Nana Mizuki, Noriaki Sugija...</td>\n",
       "      <td>[]</td>\n",
       "      <td>[]</td>\n",
       "      <td>298</td>\n",
       "    </tr>\n",
       "    <tr>\n",
       "      <th>298</th>\n",
       "      <td>Mumie</td>\n",
       "      <td>[Fantasy, Akční, Dobrodružný]</td>\n",
       "      <td>[USA]</td>\n",
       "      <td>1999</td>\n",
       "      <td>77.918052</td>\n",
       "      <td>47811</td>\n",
       "      <td>763.0</td>\n",
       "      <td>[]</td>\n",
       "      <td>[Stephen Sommers]</td>\n",
       "      <td>[Stephen Sommers]</td>\n",
       "      <td>[Brendan Fraser, Rachel Weisz, John Hannah, Ar...</td>\n",
       "      <td>[Jerry Goldsmith]</td>\n",
       "      <td>[Sean Daniel, James Jacks]</td>\n",
       "      <td>299</td>\n",
       "    </tr>\n",
       "    <tr>\n",
       "      <th>299</th>\n",
       "      <td>Zatô Ichi Senryô Kubi</td>\n",
       "      <td>[Akční, Drama]</td>\n",
       "      <td>[Japonsko]</td>\n",
       "      <td>1964</td>\n",
       "      <td>85.333333</td>\n",
       "      <td>90</td>\n",
       "      <td>13.0</td>\n",
       "      <td>[]</td>\n",
       "      <td>[Kazuo Ikehiro]</td>\n",
       "      <td>[]</td>\n",
       "      <td>[Šintaró Kacu, Tomisaburó Wakajama, Tacuja Iši...</td>\n",
       "      <td>[Ičiró Saitó]</td>\n",
       "      <td>[]</td>\n",
       "      <td>300</td>\n",
       "    </tr>\n",
       "  </tbody>\n",
       "</table>\n",
       "<p>300 rows × 14 columns</p>\n",
       "</div>"
      ],
      "text/plain": [
       "                                 title  \\\n",
       "0          Terminátor 2: Den zúčtování   \n",
       "1    Pán prstenů: Společenstvo Prstenu   \n",
       "2            Pán prstenů: Návrat krále   \n",
       "3                          Temný rytíř   \n",
       "4                           The Matrix   \n",
       "..                                 ...   \n",
       "295                        Žezelotebon   \n",
       "296                   Tenkrát v Číně 2   \n",
       "297          BORUTO -NARUTO THE MOVIE-   \n",
       "298                              Mumie   \n",
       "299              Zatô Ichi Senryô Kubi   \n",
       "\n",
       "                                       genres                 origin  year  \\\n",
       "0                   [Akční, Sci-Fi, Thriller]         [USA, Francie]  1991   \n",
       "1               [Fantasy, Dobrodružný, Akční]     [USA, Nový Zéland]  2001   \n",
       "2               [Fantasy, Dobrodružný, Akční]     [USA, Nový Zéland]  2003   \n",
       "3             [Akční, Drama, Krimi, Thriller]  [USA, Velká Británie]  2008   \n",
       "4                             [Akční, Sci-Fi]                  [USA]  1999   \n",
       "..                                        ...                    ...   ...   \n",
       "295                 [Animovaný, Akční, Drama]             [Japonsko]  2006   \n",
       "296                                   [Akční]             [Hongkong]  1992   \n",
       "297  [Animovaný, Akční, Dobrodružný, Fantasy]             [Japonsko]  2015   \n",
       "298             [Fantasy, Akční, Dobrodružný]                  [USA]  1999   \n",
       "299                            [Akční, Drama]             [Japonsko]  1964   \n",
       "\n",
       "     rating_value  rating_count  review_count  \\\n",
       "0       90.817075         78010        1859.0   \n",
       "1       90.484977        106335        1920.0   \n",
       "2       90.410795         98857        1600.0   \n",
       "3       90.287595         93569        3812.0   \n",
       "4       90.137769        103289        2141.0   \n",
       "..            ...           ...           ...   \n",
       "295     79.454545           440          16.0   \n",
       "296     78.765743           794          39.0   \n",
       "297     78.766067           778          17.0   \n",
       "298     77.918052         47811         763.0   \n",
       "299     85.333333            90          13.0   \n",
       "\n",
       "                                      based_on  \\\n",
       "0                                           []   \n",
       "1          [John Ronald Reuel Tolkien (kniha)]   \n",
       "2          [John Ronald Reuel Tolkien (kniha)]   \n",
       "3    [Bob Kane (komiks), Bill Finger (komiks)]   \n",
       "4                                           []   \n",
       "..                                         ...   \n",
       "295                  [Taijó Macumoto (komiks)]   \n",
       "296                                         []   \n",
       "297                 [Masaši Kišimoto (komiks)]   \n",
       "298                                         []   \n",
       "299                                         []   \n",
       "\n",
       "                             directors  \\\n",
       "0                      [James Cameron]   \n",
       "1                      [Peter Jackson]   \n",
       "2                      [Peter Jackson]   \n",
       "3                  [Christopher Nolan]   \n",
       "4    [Lilly Wachowski, Lana Wachowski]   \n",
       "..                                 ...   \n",
       "295                    [Michael Arias]   \n",
       "296                        [Hark Tsui]   \n",
       "297                [Hirojuki Jamašita]   \n",
       "298                  [Stephen Sommers]   \n",
       "299                    [Kazuo Ikehiro]   \n",
       "\n",
       "                                       scenarists  \\\n",
       "0             [James Cameron, William Wisher Jr.]   \n",
       "1    [Fran Walsh, Philippa Boyens, Peter Jackson]   \n",
       "2    [Fran Walsh, Philippa Boyens, Peter Jackson]   \n",
       "3             [Jonathan Nolan, Christopher Nolan]   \n",
       "4               [Lilly Wachowski, Lana Wachowski]   \n",
       "..                                            ...   \n",
       "295                           [Anthony Weintraub]   \n",
       "296                                            []   \n",
       "297                             [Masaši Kišimoto]   \n",
       "298                             [Stephen Sommers]   \n",
       "299                                            []   \n",
       "\n",
       "                                                actors  \\\n",
       "0    [Arnold Schwarzenegger, Linda Hamilton, Edward...   \n",
       "1    [Elijah Wood, Ian McKellen, Noel Appleby, Vigg...   \n",
       "2    [Elijah Wood, Noel Appleby, Billy Boyd, Domini...   \n",
       "3    [Christian Bale, Heath Ledger, Aaron Eckhart, ...   \n",
       "4    [Keanu Reeves, Laurence Fishburne, Carrie-Anne...   \n",
       "..                                                 ...   \n",
       "295  [Kazunari Ninomija, Jú Aoi, Júsuke Iseja, Kank...   \n",
       "296  [Donnie Yen, Jet Li, Xin-xin Xiong, Rosamund K...   \n",
       "297  [Daisuke Namikawa, Nana Mizuki, Noriaki Sugija...   \n",
       "298  [Brendan Fraser, Rachel Weisz, John Hannah, Ar...   \n",
       "299  [Šintaró Kacu, Tomisaburó Wakajama, Tacuja Iši...   \n",
       "\n",
       "                                     musicians  \\\n",
       "0                                [Brad Fiedel]   \n",
       "1                               [Howard Shore]   \n",
       "2                               [Howard Shore]   \n",
       "3           [Hans Zimmer, James Newton Howard]   \n",
       "4                                  [Don Davis]   \n",
       "..                                         ...   \n",
       "295                                    [Plaid]   \n",
       "296  [Richard Yuen, Johnny Njo, Gam-wing Chow]   \n",
       "297                                         []   \n",
       "298                          [Jerry Goldsmith]   \n",
       "299                              [Ičiró Saitó]   \n",
       "\n",
       "                                           producers  position  \n",
       "0                                    [James Cameron]         1  \n",
       "1     [Peter Jackson, Fran Walsh, Barrie M. Osborne]         2  \n",
       "2     [Peter Jackson, Fran Walsh, Barrie M. Osborne]         3  \n",
       "3    [Charles Roven, Christopher Nolan, Emma Thomas]         4  \n",
       "4                                      [Joel Silver]         5  \n",
       "..                                               ...       ...  \n",
       "295                                               []       296  \n",
       "296                                      [Hark Tsui]       297  \n",
       "297                                               []       298  \n",
       "298                       [Sean Daniel, James Jacks]       299  \n",
       "299                                               []       300  \n",
       "\n",
       "[300 rows x 14 columns]"
      ]
     },
     "execution_count": 223,
     "metadata": {},
     "output_type": "execute_result"
    }
   ],
   "source": [
    "import pandas as pd\n",
    "import matplotlib.pyplot as plt\n",
    "\n",
    "from collections import Counter\n",
    "\n",
    "df = pd.read_json(\"results/akcni.json\")\n",
    "df"
   ]
  },
  {
   "cell_type": "markdown",
   "id": "a9f91717",
   "metadata": {},
   "source": [
    "## Kontrola atributů a počtu záznamů"
   ]
  },
  {
   "cell_type": "code",
   "execution_count": 224,
   "id": "86f9eba2",
   "metadata": {},
   "outputs": [
    {
     "name": "stdout",
     "output_type": "stream",
     "text": [
      "All attributes with number of records:\n",
      "\n",
      "title           300\n",
      "genres          300\n",
      "origin          300\n",
      "year            300\n",
      "rating_value    300\n",
      "rating_count    300\n",
      "review_count    299\n",
      "based_on        300\n",
      "directors       300\n",
      "scenarists      300\n",
      "actors          300\n",
      "musicians       300\n",
      "producers       300\n",
      "position        300\n",
      "dtype: int64\n"
     ]
    }
   ],
   "source": [
    "df_count = df.count()\n",
    "\n",
    "print('All attributes with number of records:\\n')\n",
    "print(df_count)"
   ]
  },
  {
   "cell_type": "markdown",
   "id": "904f5920",
   "metadata": {},
   "source": [
    "## Vytvoření polí pro grafy"
   ]
  },
  {
   "cell_type": "code",
   "execution_count": 225,
   "id": "80918fee",
   "metadata": {},
   "outputs": [],
   "source": [
    "based_on = []\n",
    "genres = []\n",
    "origin = []\n",
    "year = []\n",
    "directors = []\n",
    "scenarists = []\n",
    "actors = []\n",
    "musicians = []\n",
    "producers = []\n",
    "\n",
    "for column_name, item in df.iterrows():\n",
    "    based_on = based_on + item['based_on']\n",
    "    genres = genres + item['genres']\n",
    "    year.append(item['year'])\n",
    "    directors = directors + item['directors']\n",
    "    scenarists = scenarists + item['scenarists']\n",
    "    actors = actors + item['actors']\n",
    "    musicians = musicians + item['musicians']\n",
    "    producers = producers + item['producers']\n",
    "    origin = origin + item['origin']"
   ]
  },
  {
   "cell_type": "markdown",
   "id": "317dbafa",
   "metadata": {},
   "source": [
    "## Filmová předloha"
   ]
  },
  {
   "cell_type": "code",
   "execution_count": 226,
   "id": "c951a2f7",
   "metadata": {
    "scrolled": false
   },
   "outputs": [
    {
     "data": {
      "text/plain": [
       "<BarContainer object of 7 artists>"
      ]
     },
     "execution_count": 226,
     "metadata": {},
     "output_type": "execute_result"
    },
    {
     "data": {
      "image/png": "[encoded data removed]",
      "text/plain": [
       "<Figure size 1152x576 with 1 Axes>"
      ]
     },
     "metadata": {
      "needs_background": "light"
     },
     "output_type": "display_data"
    }
   ],
   "source": [
    "plt.figure(figsize=(16,8))\n",
    "\n",
    "x = [x[0] for x in Counter(based_on).most_common(7)]\n",
    "y = [x[1] for x in Counter(based_on).most_common(7)]\n",
    "\n",
    "plt.bar(x, y)"
   ]
  },
  {
   "cell_type": "markdown",
   "id": "0262324e",
   "metadata": {},
   "source": [
    "## Související žánry"
   ]
  },
  {
   "cell_type": "code",
   "execution_count": 227,
   "id": "f67351bb",
   "metadata": {},
   "outputs": [
    {
     "data": {
      "text/plain": [
       "<BarContainer object of 11 artists>"
      ]
     },
     "execution_count": 227,
     "metadata": {},
     "output_type": "execute_result"
    },
    {
     "data": {
      "image/png": "[encoded data removed]",
      "text/plain": [
       "<Figure size 1152x576 with 1 Axes>"
      ]
     },
     "metadata": {
      "needs_background": "light"
     },
     "output_type": "display_data"
    }
   ],
   "source": [
    "plt.figure(figsize=(16,8))\n",
    "removed_genre = Counter(genres).most_common(12)\n",
    "removed_genre.pop(0)\n",
    "\n",
    "x = [x[0] for x in removed_genre]\n",
    "y = [x[1] for x in removed_genre]\n",
    "\n",
    "plt.bar(x, y)"
   ]
  },
  {
   "cell_type": "markdown",
   "id": "50ddaf4a",
   "metadata": {},
   "source": [
    "## Země původu"
   ]
  },
  {
   "cell_type": "code",
   "execution_count": 228,
   "id": "7c88e80a",
   "metadata": {},
   "outputs": [
    {
     "data": {
      "text/plain": [
       "<BarContainer object of 7 artists>"
      ]
     },
     "execution_count": 228,
     "metadata": {},
     "output_type": "execute_result"
    },
    {
     "data": {
      "image/png": "[encoded data removed]",
      "text/plain": [
       "<Figure size 1152x576 with 1 Axes>"
      ]
     },
     "metadata": {
      "needs_background": "light"
     },
     "output_type": "display_data"
    }
   ],
   "source": [
    "plt.figure(figsize=(16,8))\n",
    "\n",
    "x = [x[0] for x in Counter(origin).most_common(7)]\n",
    "y = [x[1] for x in Counter(origin).most_common(7)]\n",
    "\n",
    "plt.bar(x, y)"
   ]
  },
  {
   "cell_type": "markdown",
   "id": "e350a500",
   "metadata": {},
   "source": [
    "## Vývoj počtu filmů v čase"
   ]
  },
  {
   "cell_type": "code",
   "execution_count": 229,
   "id": "631c88eb",
   "metadata": {},
   "outputs": [
    {
     "data": {
      "text/plain": [
       "<BarContainer object of 68 artists>"
      ]
     },
     "execution_count": 229,
     "metadata": {},
     "output_type": "execute_result"
    },
    {
     "data": {
      "image/png": "[encoded data removed]",
      "text/plain": [
       "<Figure size 1296x576 with 1 Axes>"
      ]
     },
     "metadata": {
      "needs_background": "light"
     },
     "output_type": "display_data"
    }
   ],
   "source": [
    "plt.figure(figsize=(18,8))\n",
    "\n",
    "x = [x[0] for x in Counter(year).most_common()]\n",
    "y = [x[1] for x in Counter(year).most_common()]\n",
    "\n",
    "plt.bar(x, y)"
   ]
  },
  {
   "cell_type": "markdown",
   "id": "67e0d3c3",
   "metadata": {},
   "source": [
    "## Režisér"
   ]
  },
  {
   "cell_type": "code",
   "execution_count": 230,
   "id": "0bbe26fd",
   "metadata": {},
   "outputs": [
    {
     "data": {
      "text/plain": [
       "<BarContainer object of 8 artists>"
      ]
     },
     "execution_count": 230,
     "metadata": {},
     "output_type": "execute_result"
    },
    {
     "data": {
      "image/png": "[encoded data removed]",
      "text/plain": [
       "<Figure size 1152x576 with 1 Axes>"
      ]
     },
     "metadata": {
      "needs_background": "light"
     },
     "output_type": "display_data"
    }
   ],
   "source": [
    "plt.figure(figsize=(16,8))\n",
    "\n",
    "x = [x[0] for x in Counter(directors).most_common(8)]\n",
    "y = [x[1] for x in Counter(directors).most_common(8)]\n",
    "\n",
    "plt.bar(x, y)"
   ]
  },
  {
   "cell_type": "markdown",
   "id": "a5097c3a",
   "metadata": {},
   "source": [
    "## Scénarista"
   ]
  },
  {
   "cell_type": "code",
   "execution_count": 231,
   "id": "0c670f1f",
   "metadata": {},
   "outputs": [
    {
     "data": {
      "text/plain": [
       "<BarContainer object of 8 artists>"
      ]
     },
     "execution_count": 231,
     "metadata": {},
     "output_type": "execute_result"
    },
    {
     "data": {
      "image/png": "[encoded data removed]",
      "text/plain": [
       "<Figure size 1152x576 with 1 Axes>"
      ]
     },
     "metadata": {
      "needs_background": "light"
     },
     "output_type": "display_data"
    }
   ],
   "source": [
    "plt.figure(figsize=(16,8))\n",
    "\n",
    "x = [x[0] for x in Counter(scenarists).most_common(8)]\n",
    "y = [x[1] for x in Counter(scenarists).most_common(8)]\n",
    "\n",
    "plt.bar(x, y)"
   ]
  },
  {
   "cell_type": "markdown",
   "id": "a069ac12",
   "metadata": {},
   "source": [
    "## Herec"
   ]
  },
  {
   "cell_type": "code",
   "execution_count": 232,
   "id": "76f32b99",
   "metadata": {},
   "outputs": [
    {
     "data": {
      "text/plain": [
       "<BarContainer object of 8 artists>"
      ]
     },
     "execution_count": 232,
     "metadata": {},
     "output_type": "execute_result"
    },
    {
     "data": {
      "image/png": "[encoded data removed]",
      "text/plain": [
       "<Figure size 1152x576 with 1 Axes>"
      ]
     },
     "metadata": {
      "needs_background": "light"
     },
     "output_type": "display_data"
    }
   ],
   "source": [
    "plt.figure(figsize=(16,8))\n",
    "\n",
    "x = [x[0] for x in Counter(actors).most_common(8)]\n",
    "y = [x[1] for x in Counter(actors).most_common(8)]\n",
    "\n",
    "plt.bar(x, y)"
   ]
  },
  {
   "cell_type": "markdown",
   "id": "c35dcd84",
   "metadata": {},
   "source": [
    "## Hudba"
   ]
  },
  {
   "cell_type": "code",
   "execution_count": 233,
   "id": "ac18e4fe",
   "metadata": {},
   "outputs": [
    {
     "data": {
      "text/plain": [
       "<BarContainer object of 8 artists>"
      ]
     },
     "execution_count": 233,
     "metadata": {},
     "output_type": "execute_result"
    },
    {
     "data": {
      "image/png": "[encoded data removed]",
      "text/plain": [
       "<Figure size 1152x576 with 1 Axes>"
      ]
     },
     "metadata": {
      "needs_background": "light"
     },
     "output_type": "display_data"
    }
   ],
   "source": [
    "plt.figure(figsize=(16,8))\n",
    "\n",
    "x = [x[0] for x in Counter(musicians).most_common(8)]\n",
    "y = [x[1] for x in Counter(musicians).most_common(8)]\n",
    "\n",
    "plt.bar(x, y)"
   ]
  },
  {
   "cell_type": "markdown",
   "id": "b523ec95",
   "metadata": {},
   "source": [
    "## Produkce"
   ]
  },
  {
   "cell_type": "code",
   "execution_count": 234,
   "id": "f27bc093",
   "metadata": {},
   "outputs": [
    {
     "data": {
      "text/plain": [
       "<BarContainer object of 8 artists>"
      ]
     },
     "execution_count": 234,
     "metadata": {},
     "output_type": "execute_result"
    },
    {
     "data": {
      "image/png": "[encoded data removed]",
      "text/plain": [
       "<Figure size 1152x576 with 1 Axes>"
      ]
     },
     "metadata": {
      "needs_background": "light"
     },
     "output_type": "display_data"
    }
   ],
   "source": [
    "plt.figure(figsize=(16,8))\n",
    "\n",
    "x = [x[0] for x in Counter(producers).most_common(8)]\n",
    "y = [x[1] for x in Counter(producers).most_common(8)]\n",
    "\n",
    "plt.bar(x, y)"
   ]
  },
  {
   "cell_type": "code",
   "execution_count": null,
   "id": "5bab97e6",
   "metadata": {},
   "outputs": [],
   "source": []
  }
 ],
 "metadata": {
  "kernelspec": {
   "display_name": "Python 3",
   "language": "python",
   "name": "python3"
  },
  "language_info": {
   "codemirror_mode": {
    "name": "ipython",
    "version": 3
   },
   "file_extension": ".py",
   "mimetype": "text/x-python",
   "name": "python",
   "nbconvert_exporter": "python",
   "pygments_lexer": "ipython3",
   "version": "3.8.8"
  }
 },
 "nbformat": 4,
 "nbformat_minor": 5
}
